{
  "nbformat": 4,
  "nbformat_minor": 0,
  "metadata": {
    "colab": {
      "name": "Covid-19 USA.ipynb",
      "provenance": [],
      "toc_visible": true,
      "authorship_tag": "ABX9TyMOApGHluFppfdC8yN+bPzY",
      "include_colab_link": true
    },
    "kernelspec": {
      "name": "python3",
      "display_name": "Python 3"
    },
    "language_info": {
      "name": "python"
    }
  },
  "cells": [
    {
      "cell_type": "markdown",
      "metadata": {
        "id": "view-in-github",
        "colab_type": "text"
      },
      "source": [
        "<a href=\"https://colab.research.google.com/github/Bhargav-Adya/ML/blob/main/Covid_19_USA.ipynb\" target=\"_parent\"><img src=\"https://colab.research.google.com/assets/colab-badge.svg\" alt=\"Open In Colab\"/></a>"
      ]
    },
    {
      "cell_type": "code",
      "metadata": {
        "id": "x5hATUWMhx9O"
      },
      "source": [
        "import numpy as np\n",
        "import pandas as pd\n",
        "import matplotlib.pyplot as plt"
      ],
      "execution_count": null,
      "outputs": []
    },
    {
      "cell_type": "code",
      "metadata": {
        "id": "p8ljHbeNiLwd",
        "colab": {
          "base_uri": "https://localhost:8080/",
          "height": 417
        },
        "outputId": "2c8d5415-3907-4a99-a0f4-8e932a6ddf46"
      },
      "source": [
        "cases = pd.read_csv('/content/us-states.csv')\n",
        "cases"
      ],
      "execution_count": null,
      "outputs": [
        {
          "output_type": "execute_result",
          "data": {
            "text/html": [
              "<div>\n",
              "<style scoped>\n",
              "    .dataframe tbody tr th:only-of-type {\n",
              "        vertical-align: middle;\n",
              "    }\n",
              "\n",
              "    .dataframe tbody tr th {\n",
              "        vertical-align: top;\n",
              "    }\n",
              "\n",
              "    .dataframe thead th {\n",
              "        text-align: right;\n",
              "    }\n",
              "</style>\n",
              "<table border=\"1\" class=\"dataframe\">\n",
              "  <thead>\n",
              "    <tr style=\"text-align: right;\">\n",
              "      <th></th>\n",
              "      <th>date</th>\n",
              "      <th>state</th>\n",
              "      <th>fips</th>\n",
              "      <th>cases</th>\n",
              "      <th>deaths</th>\n",
              "    </tr>\n",
              "  </thead>\n",
              "  <tbody>\n",
              "    <tr>\n",
              "      <th>0</th>\n",
              "      <td>2020-01-21</td>\n",
              "      <td>Washington</td>\n",
              "      <td>53</td>\n",
              "      <td>1</td>\n",
              "      <td>0</td>\n",
              "    </tr>\n",
              "    <tr>\n",
              "      <th>1</th>\n",
              "      <td>2020-01-22</td>\n",
              "      <td>Washington</td>\n",
              "      <td>53</td>\n",
              "      <td>1</td>\n",
              "      <td>0</td>\n",
              "    </tr>\n",
              "    <tr>\n",
              "      <th>2</th>\n",
              "      <td>2020-01-23</td>\n",
              "      <td>Washington</td>\n",
              "      <td>53</td>\n",
              "      <td>1</td>\n",
              "      <td>0</td>\n",
              "    </tr>\n",
              "    <tr>\n",
              "      <th>3</th>\n",
              "      <td>2020-01-24</td>\n",
              "      <td>Illinois</td>\n",
              "      <td>17</td>\n",
              "      <td>1</td>\n",
              "      <td>0</td>\n",
              "    </tr>\n",
              "    <tr>\n",
              "      <th>4</th>\n",
              "      <td>2020-01-24</td>\n",
              "      <td>Washington</td>\n",
              "      <td>53</td>\n",
              "      <td>1</td>\n",
              "      <td>0</td>\n",
              "    </tr>\n",
              "    <tr>\n",
              "      <th>...</th>\n",
              "      <td>...</td>\n",
              "      <td>...</td>\n",
              "      <td>...</td>\n",
              "      <td>...</td>\n",
              "      <td>...</td>\n",
              "    </tr>\n",
              "    <tr>\n",
              "      <th>30314</th>\n",
              "      <td>2021-09-04</td>\n",
              "      <td>Virginia</td>\n",
              "      <td>51</td>\n",
              "      <td>778167</td>\n",
              "      <td>11899</td>\n",
              "    </tr>\n",
              "    <tr>\n",
              "      <th>30315</th>\n",
              "      <td>2021-09-04</td>\n",
              "      <td>Washington</td>\n",
              "      <td>53</td>\n",
              "      <td>577569</td>\n",
              "      <td>6749</td>\n",
              "    </tr>\n",
              "    <tr>\n",
              "      <th>30316</th>\n",
              "      <td>2021-09-04</td>\n",
              "      <td>West Virginia</td>\n",
              "      <td>54</td>\n",
              "      <td>196484</td>\n",
              "      <td>3124</td>\n",
              "    </tr>\n",
              "    <tr>\n",
              "      <th>30317</th>\n",
              "      <td>2021-09-04</td>\n",
              "      <td>Wisconsin</td>\n",
              "      <td>55</td>\n",
              "      <td>741412</td>\n",
              "      <td>8521</td>\n",
              "    </tr>\n",
              "    <tr>\n",
              "      <th>30318</th>\n",
              "      <td>2021-09-04</td>\n",
              "      <td>Wyoming</td>\n",
              "      <td>56</td>\n",
              "      <td>77206</td>\n",
              "      <td>858</td>\n",
              "    </tr>\n",
              "  </tbody>\n",
              "</table>\n",
              "<p>30319 rows × 5 columns</p>\n",
              "</div>"
            ],
            "text/plain": [
              "             date          state  fips   cases  deaths\n",
              "0      2020-01-21     Washington    53       1       0\n",
              "1      2020-01-22     Washington    53       1       0\n",
              "2      2020-01-23     Washington    53       1       0\n",
              "3      2020-01-24       Illinois    17       1       0\n",
              "4      2020-01-24     Washington    53       1       0\n",
              "...           ...            ...   ...     ...     ...\n",
              "30314  2021-09-04       Virginia    51  778167   11899\n",
              "30315  2021-09-04     Washington    53  577569    6749\n",
              "30316  2021-09-04  West Virginia    54  196484    3124\n",
              "30317  2021-09-04      Wisconsin    55  741412    8521\n",
              "30318  2021-09-04        Wyoming    56   77206     858\n",
              "\n",
              "[30319 rows x 5 columns]"
            ]
          },
          "metadata": {},
          "execution_count": 23
        }
      ]
    },
    {
      "cell_type": "code",
      "metadata": {
        "colab": {
          "base_uri": "https://localhost:8080/"
        },
        "id": "ckxsUdBLSvQG",
        "outputId": "2cdcde9b-362b-4e37-edd1-28e9dd8d843a"
      },
      "source": [
        "print(cases.head)\n"
      ],
      "execution_count": null,
      "outputs": [
        {
          "output_type": "stream",
          "name": "stdout",
          "text": [
            "<bound method NDFrame.head of              date          state  fips   cases  deaths\n",
            "0      2020-01-21     Washington    53       1       0\n",
            "1      2020-01-22     Washington    53       1       0\n",
            "2      2020-01-23     Washington    53       1       0\n",
            "3      2020-01-24       Illinois    17       1       0\n",
            "4      2020-01-24     Washington    53       1       0\n",
            "...           ...            ...   ...     ...     ...\n",
            "30314  2021-09-04       Virginia    51  778167   11899\n",
            "30315  2021-09-04     Washington    53  577569    6749\n",
            "30316  2021-09-04  West Virginia    54  196484    3124\n",
            "30317  2021-09-04      Wisconsin    55  741412    8521\n",
            "30318  2021-09-04        Wyoming    56   77206     858\n",
            "\n",
            "[30319 rows x 5 columns]>\n"
          ]
        }
      ]
    },
    {
      "cell_type": "code",
      "metadata": {
        "id": "SLHiV-E9SvMH"
      },
      "source": [
        "from datetime import datetime "
      ],
      "execution_count": null,
      "outputs": []
    },
    {
      "cell_type": "code",
      "metadata": {
        "colab": {
          "base_uri": "https://localhost:8080/",
          "height": 417
        },
        "id": "KXKqYLCua1Lw",
        "outputId": "6afbf2f9-45f8-4c2c-e141-5fd40b590d6e"
      },
      "source": [
        "Wyoming = cases[cases['state']==\"Wyoming\"]\n",
        "Wyoming"
      ],
      "execution_count": null,
      "outputs": [
        {
          "output_type": "execute_result",
          "data": {
            "text/html": [
              "<div>\n",
              "<style scoped>\n",
              "    .dataframe tbody tr th:only-of-type {\n",
              "        vertical-align: middle;\n",
              "    }\n",
              "\n",
              "    .dataframe tbody tr th {\n",
              "        vertical-align: top;\n",
              "    }\n",
              "\n",
              "    .dataframe thead th {\n",
              "        text-align: right;\n",
              "    }\n",
              "</style>\n",
              "<table border=\"1\" class=\"dataframe\">\n",
              "  <thead>\n",
              "    <tr style=\"text-align: right;\">\n",
              "      <th></th>\n",
              "      <th>date</th>\n",
              "      <th>state</th>\n",
              "      <th>fips</th>\n",
              "      <th>cases</th>\n",
              "      <th>deaths</th>\n",
              "    </tr>\n",
              "  </thead>\n",
              "  <tbody>\n",
              "    <tr>\n",
              "      <th>538</th>\n",
              "      <td>2020-03-11</td>\n",
              "      <td>Wyoming</td>\n",
              "      <td>56</td>\n",
              "      <td>1</td>\n",
              "      <td>0</td>\n",
              "    </tr>\n",
              "    <tr>\n",
              "      <th>585</th>\n",
              "      <td>2020-03-12</td>\n",
              "      <td>Wyoming</td>\n",
              "      <td>56</td>\n",
              "      <td>1</td>\n",
              "      <td>0</td>\n",
              "    </tr>\n",
              "    <tr>\n",
              "      <th>636</th>\n",
              "      <td>2020-03-13</td>\n",
              "      <td>Wyoming</td>\n",
              "      <td>56</td>\n",
              "      <td>2</td>\n",
              "      <td>0</td>\n",
              "    </tr>\n",
              "    <tr>\n",
              "      <th>688</th>\n",
              "      <td>2020-03-14</td>\n",
              "      <td>Wyoming</td>\n",
              "      <td>56</td>\n",
              "      <td>3</td>\n",
              "      <td>0</td>\n",
              "    </tr>\n",
              "    <tr>\n",
              "      <th>741</th>\n",
              "      <td>2020-03-15</td>\n",
              "      <td>Wyoming</td>\n",
              "      <td>56</td>\n",
              "      <td>3</td>\n",
              "      <td>0</td>\n",
              "    </tr>\n",
              "    <tr>\n",
              "      <th>...</th>\n",
              "      <td>...</td>\n",
              "      <td>...</td>\n",
              "      <td>...</td>\n",
              "      <td>...</td>\n",
              "      <td>...</td>\n",
              "    </tr>\n",
              "    <tr>\n",
              "      <th>30098</th>\n",
              "      <td>2021-08-31</td>\n",
              "      <td>Wyoming</td>\n",
              "      <td>56</td>\n",
              "      <td>75136</td>\n",
              "      <td>858</td>\n",
              "    </tr>\n",
              "    <tr>\n",
              "      <th>30153</th>\n",
              "      <td>2021-09-01</td>\n",
              "      <td>Wyoming</td>\n",
              "      <td>56</td>\n",
              "      <td>76007</td>\n",
              "      <td>858</td>\n",
              "    </tr>\n",
              "    <tr>\n",
              "      <th>30208</th>\n",
              "      <td>2021-09-02</td>\n",
              "      <td>Wyoming</td>\n",
              "      <td>56</td>\n",
              "      <td>76602</td>\n",
              "      <td>858</td>\n",
              "    </tr>\n",
              "    <tr>\n",
              "      <th>30263</th>\n",
              "      <td>2021-09-03</td>\n",
              "      <td>Wyoming</td>\n",
              "      <td>56</td>\n",
              "      <td>77206</td>\n",
              "      <td>858</td>\n",
              "    </tr>\n",
              "    <tr>\n",
              "      <th>30318</th>\n",
              "      <td>2021-09-04</td>\n",
              "      <td>Wyoming</td>\n",
              "      <td>56</td>\n",
              "      <td>77206</td>\n",
              "      <td>858</td>\n",
              "    </tr>\n",
              "  </tbody>\n",
              "</table>\n",
              "<p>543 rows × 5 columns</p>\n",
              "</div>"
            ],
            "text/plain": [
              "             date    state  fips  cases  deaths\n",
              "538    2020-03-11  Wyoming    56      1       0\n",
              "585    2020-03-12  Wyoming    56      1       0\n",
              "636    2020-03-13  Wyoming    56      2       0\n",
              "688    2020-03-14  Wyoming    56      3       0\n",
              "741    2020-03-15  Wyoming    56      3       0\n",
              "...           ...      ...   ...    ...     ...\n",
              "30098  2021-08-31  Wyoming    56  75136     858\n",
              "30153  2021-09-01  Wyoming    56  76007     858\n",
              "30208  2021-09-02  Wyoming    56  76602     858\n",
              "30263  2021-09-03  Wyoming    56  77206     858\n",
              "30318  2021-09-04  Wyoming    56  77206     858\n",
              "\n",
              "[543 rows x 5 columns]"
            ]
          },
          "metadata": {},
          "execution_count": 7
        }
      ]
    },
    {
      "cell_type": "code",
      "metadata": {
        "colab": {
          "base_uri": "https://localhost:8080/"
        },
        "id": "_CxDpgnMa1Iz",
        "outputId": "47fae16d-41a8-499e-f89a-d5f3a9d86c8f"
      },
      "source": [
        "Wyoming['date']"
      ],
      "execution_count": null,
      "outputs": [
        {
          "output_type": "execute_result",
          "data": {
            "text/plain": [
              "538      2020-03-11\n",
              "585      2020-03-12\n",
              "636      2020-03-13\n",
              "688      2020-03-14\n",
              "741      2020-03-15\n",
              "            ...    \n",
              "30098    2021-08-31\n",
              "30153    2021-09-01\n",
              "30208    2021-09-02\n",
              "30263    2021-09-03\n",
              "30318    2021-09-04\n",
              "Name: date, Length: 543, dtype: object"
            ]
          },
          "metadata": {},
          "execution_count": 8
        }
      ]
    },
    {
      "cell_type": "code",
      "metadata": {
        "id": "1U8s9W5Za1GQ"
      },
      "source": [
        "dt = Wyoming['date']\n",
        "st_date= '2020-03-11'\n",
        "dt = np.array(dt)\n"
      ],
      "execution_count": null,
      "outputs": []
    },
    {
      "cell_type": "code",
      "metadata": {
        "id": "E_33MD-ea1CW"
      },
      "source": [
        "x=[]\n",
        "for i in range(0,len(dt)):\n",
        "  d = datetime.strptime(dt[i],'%Y-%m-%d').date()\n",
        "  d= d.toordinal()\n",
        "  x.append(d)\n"
      ],
      "execution_count": null,
      "outputs": []
    },
    {
      "cell_type": "code",
      "metadata": {
        "id": "y_DUkHxca09s",
        "colab": {
          "base_uri": "https://localhost:8080/"
        },
        "outputId": "e27aefae-33be-4340-8ff5-ffb826e0e94f"
      },
      "source": [
        "cases.dtypes"
      ],
      "execution_count": null,
      "outputs": [
        {
          "output_type": "execute_result",
          "data": {
            "text/plain": [
              "date      object\n",
              "state     object\n",
              "fips       int64\n",
              "cases      int64\n",
              "deaths     int64\n",
              "dtype: object"
            ]
          },
          "metadata": {},
          "execution_count": 11
        }
      ]
    },
    {
      "cell_type": "code",
      "metadata": {
        "id": "XpXV4HflB0wK",
        "colab": {
          "base_uri": "https://localhost:8080/"
        },
        "outputId": "cd092e68-295e-4012-c379-42c9a91f7d30"
      },
      "source": [
        "y = Wyoming['cases']\n",
        "y = np.array(y)\n",
        "x=np.array(x)\n",
        "#x.shape\n",
        "y.shape"
      ],
      "execution_count": null,
      "outputs": [
        {
          "output_type": "execute_result",
          "data": {
            "text/plain": [
              "(543,)"
            ]
          },
          "metadata": {},
          "execution_count": 12
        }
      ]
    },
    {
      "cell_type": "code",
      "metadata": {
        "id": "VQbLWN8uA5JJ"
      },
      "source": [
        "from sklearn.model_selection import train_test_split\n",
        "train_x,test_x,train_y,test_y = train_test_split(x,y,test_size=0.2)"
      ],
      "execution_count": null,
      "outputs": []
    },
    {
      "cell_type": "code",
      "metadata": {
        "colab": {
          "base_uri": "https://localhost:8080/"
        },
        "id": "DsAJdUO3A49Q",
        "outputId": "64c76c73-2294-4f07-cbd9-e9091b5e8354"
      },
      "source": [
        "train_x= np.reshape(train_x,(-1,1))\n",
        "train_y = np.reshape(train_y,(-1,1))\n",
        "test_x = np.reshape(test_x,(-1,1))\n",
        "test_y = np.reshape(train_x,(-1,1))\n",
        "print(train_y.shape)\n",
        "print(train_x.shape)"
      ],
      "execution_count": null,
      "outputs": [
        {
          "output_type": "stream",
          "name": "stdout",
          "text": [
            "(434, 1)\n",
            "(434, 1)\n"
          ]
        }
      ]
    },
    {
      "cell_type": "code",
      "metadata": {
        "id": "KW6usdVNB0lJ",
        "colab": {
          "base_uri": "https://localhost:8080/"
        },
        "outputId": "fb62ea49-c1bd-4fa7-8c7f-57a62291f8c8"
      },
      "source": [
        "from sklearn.linear_model import LinearRegression\n",
        "regressor =LinearRegression()\n",
        "regressor.fit(train_x,train_y)\n",
        "print(regressor.coef_)\n",
        "print(regressor.intercept_)"
      ],
      "execution_count": null,
      "outputs": [
        {
          "output_type": "stream",
          "name": "stdout",
          "text": [
            "[[165.3341488]]\n",
            "[-1.21946019e+08]\n"
          ]
        }
      ]
    },
    {
      "cell_type": "code",
      "metadata": {
        "id": "gP74BAP9B0g5"
      },
      "source": [
        "pred_y = regressor.predict(test_x)"
      ],
      "execution_count": null,
      "outputs": []
    },
    {
      "cell_type": "code",
      "metadata": {
        "colab": {
          "base_uri": "https://localhost:8080/"
        },
        "id": "ag6cnWTEGAXc",
        "outputId": "ce3c0bf2-8b13-4114-a3af-ddad884947f9"
      },
      "source": [
        "for i in range(0,len(pred_y)):\n",
        "  print(\"Predicted: \",pred_y[i],\" and Actual: \",test_y[i])"
      ],
      "execution_count": null,
      "outputs": [
        {
          "output_type": "stream",
          "name": "stdout",
          "text": [
            "Predicted:  [62316.01193959]  and Actual:  [737514]\n",
            "Predicted:  [73889.40235549]  and Actual:  [738017]\n",
            "Predicted:  [32225.19685821]  and Actual:  [737797]\n",
            "Predicted:  [6763.73794322]  and Actual:  [737931]\n",
            "Predicted:  [67441.37055235]  and Actual:  [737976]\n",
            "Predicted:  [21313.1430375]  and Actual:  [737660]\n",
            "Predicted:  [12881.10144877]  and Actual:  [737743]\n",
            "Predicted:  [53553.30205324]  and Actual:  [737803]\n",
            "Predicted:  [-7785.66715108]  and Actual:  [737779]\n",
            "Predicted:  [44294.58972052]  and Actual:  [737524]\n",
            "Predicted:  [-3982.9817287]  and Actual:  [737819]\n",
            "Predicted:  [54710.64109485]  and Actual:  [737934]\n",
            "Predicted:  [1307.71103285]  and Actual:  [737545]\n",
            "Predicted:  [38342.56036377]  and Actual:  [737717]\n",
            "Predicted:  [68433.37544513]  and Actual:  [737844]\n",
            "Predicted:  [49585.28248209]  and Actual:  [737877]\n",
            "Predicted:  [68598.70959394]  and Actual:  [737641]\n",
            "Predicted:  [39995.90185176]  and Actual:  [737703]\n",
            "Predicted:  [31729.19441181]  and Actual:  [737972]\n",
            "Predicted:  [9409.08432399]  and Actual:  [737889]\n",
            "Predicted:  [9739.75262159]  and Actual:  [737498]\n",
            "Predicted:  [18998.46495432]  and Actual:  [737686]\n",
            "Predicted:  [-7620.33300227]  and Actual:  [737634]\n",
            "Predicted:  [19825.13569832]  and Actual:  [737541]\n",
            "Predicted:  [19659.80154951]  and Actual:  [737843]\n",
            "Predicted:  [44955.92631571]  and Actual:  [737774]\n",
            "Predicted:  [26273.16750146]  and Actual:  [737838]\n",
            "Predicted:  [-6958.99640708]  and Actual:  [737544]\n",
            "Predicted:  [23131.81867428]  and Actual:  [738003]\n",
            "Predicted:  [70748.05352832]  and Actual:  [737520]\n",
            "Predicted:  [61158.67289799]  and Actual:  [737860]\n",
            "Predicted:  [74550.73895068]  and Actual:  [737591]\n",
            "Predicted:  [32721.19930461]  and Actual:  [737699]\n",
            "Predicted:  [20321.1381447]  and Actual:  [738027]\n",
            "Predicted:  [11393.09410958]  and Actual:  [737829]\n",
            "Predicted:  [17510.45761514]  and Actual:  [737529]\n",
            "Predicted:  [19494.46740071]  and Actual:  [737757]\n",
            "Predicted:  [-8612.33789507]  and Actual:  [737760]\n",
            "Predicted:  [58347.99236841]  and Actual:  [737505]\n",
            "Predicted:  [66284.03151076]  and Actual:  [737793]\n",
            "Predicted:  [19990.46984711]  and Actual:  [737567]\n",
            "Predicted:  [58843.99481481]  and Actual:  [737862]\n",
            "Predicted:  [74881.40724829]  and Actual:  [737777]\n",
            "Predicted:  [57851.98992202]  and Actual:  [737978]\n",
            "Predicted:  [50907.95567247]  and Actual:  [737755]\n",
            "Predicted:  [32555.86515582]  and Actual:  [737562]\n",
            "Predicted:  [20651.80644231]  and Actual:  [737705]\n",
            "Predicted:  [-14.96215753]  and Actual:  [737772]\n",
            "Predicted:  [23462.48697188]  and Actual:  [737734]\n",
            "Predicted:  [17179.78931753]  and Actual:  [737994]\n",
            "Predicted:  [4449.05986004]  and Actual:  [737814]\n",
            "Predicted:  [69260.04618913]  and Actual:  [737547]\n",
            "Predicted:  [-7454.99885347]  and Actual:  [737669]\n",
            "Predicted:  [73062.73161151]  and Actual:  [737657]\n",
            "Predicted:  [18171.79421033]  and Actual:  [738021]\n",
            "Predicted:  [52395.96301165]  and Actual:  [737730]\n",
            "Predicted:  [-12745.69161503]  and Actual:  [737576]\n",
            "Predicted:  [-12911.02576382]  and Actual:  [737727]\n",
            "Predicted:  [51899.96056527]  and Actual:  [738011]\n",
            "Predicted:  [28587.84558465]  and Actual:  [737609]\n",
            "Predicted:  [57355.98747562]  and Actual:  [737874]\n",
            "Predicted:  [21147.8088887]  and Actual:  [737537]\n",
            "Predicted:  [44459.92386933]  and Actual:  [737586]\n",
            "Predicted:  [72070.72671871]  and Actual:  [737658]\n",
            "Predicted:  [67772.03884993]  and Actual:  [737980]\n",
            "Predicted:  [75708.07799228]  and Actual:  [737865]\n",
            "Predicted:  [66449.36565955]  and Actual:  [737536]\n",
            "Predicted:  [-510.96460393]  and Actual:  [737775]\n",
            "Predicted:  [60166.6680052]  and Actual:  [737584]\n",
            "Predicted:  [61324.00704679]  and Actual:  [737776]\n",
            "Predicted:  [-8447.00374627]  and Actual:  [737840]\n",
            "Predicted:  [46939.9361013]  and Actual:  [737671]\n",
            "Predicted:  [22139.8137815]  and Actual:  [737659]\n",
            "Predicted:  [8251.7452824]  and Actual:  [737625]\n",
            "Predicted:  [15691.78197834]  and Actual:  [737826]\n",
            "Predicted:  [62977.34853478]  and Actual:  [737739]\n",
            "Predicted:  [23297.15282309]  and Actual:  [737652]\n",
            "Predicted:  [15030.44538315]  and Actual:  [738030]\n",
            "Predicted:  [-3486.9792823]  and Actual:  [737607]\n",
            "Predicted:  [46278.59950611]  and Actual:  [737866]\n",
            "Predicted:  [12385.09900238]  and Actual:  [737898]\n",
            "Predicted:  [-2164.30609192]  and Actual:  [737794]\n",
            "Predicted:  [-6462.99396068]  and Actual:  [737566]\n",
            "Predicted:  [-9604.34278786]  and Actual:  [737957]\n",
            "Predicted:  [1638.37933046]  and Actual:  [737895]\n",
            "Predicted:  [-5801.65736549]  and Actual:  [737870]\n",
            "Predicted:  [60828.00460039]  and Actual:  [737820]\n",
            "Predicted:  [76700.08288507]  and Actual:  [737780]\n",
            "Predicted:  [56363.98258282]  and Actual:  [737989]\n",
            "Predicted:  [36027.88228059]  and Actual:  [737945]\n",
            "Predicted:  [11062.42581198]  and Actual:  [737603]\n",
            "Predicted:  [17675.79176393]  and Actual:  [737711]\n",
            "Predicted:  [65457.36076675]  and Actual:  [737557]\n",
            "Predicted:  [36689.21887578]  and Actual:  [737672]\n",
            "Predicted:  [-12249.68916863]  and Actual:  [737674]\n",
            "Predicted:  [57521.32162441]  and Actual:  [738029]\n",
            "Predicted:  [22635.8162279]  and Actual:  [737884]\n",
            "Predicted:  [55702.64598763]  and Actual:  [737752]\n",
            "Predicted:  [42806.58238134]  and Actual:  [737846]\n",
            "Predicted:  [24619.82601348]  and Actual:  [737908]\n",
            "Predicted:  [18006.46006152]  and Actual:  [737796]\n",
            "Predicted:  [58513.32651721]  and Actual:  [737971]\n",
            "Predicted:  [61654.67534439]  and Actual:  [737616]\n",
            "Predicted:  [-1998.97194311]  and Actual:  [737878]\n",
            "Predicted:  [24950.49431108]  and Actual:  [737622]\n",
            "Predicted:  [49915.95077968]  and Actual:  [737995]\n",
            "Predicted:  [-676.29875273]  and Actual:  [737690]\n",
            "Predicted:  [7425.07453841]  and Actual:  [737869]\n",
            "Predicted:  [56859.98502922]  and Actual:  [737718]\n"
          ]
        }
      ]
    },
    {
      "cell_type": "code",
      "metadata": {
        "colab": {
          "base_uri": "https://localhost:8080/",
          "height": 280
        },
        "id": "SxgP8jszGl-h",
        "outputId": "2d87f903-6eaa-49f2-e007-0dcd9d055acd"
      },
      "source": [
        "import datetime\n",
        "\n",
        "# w for i in x:\n",
        "#  d= datetime.date.fromordinal(x[i])\n",
        "\n",
        "#dw\n",
        "plt.scatter(x,y,color='blue')\n",
        "plt.xlabel('date')\n",
        "plt.ylabel('cases')\n",
        "plt.plot(test_x,regressor.predict(test_x),color='red')\n",
        "plt.show()"
      ],
      "execution_count": null,
      "outputs": [
        {
          "output_type": "display_data",
          "data": {
            "image/png": "[encoded data removed]",
            "text/plain": [
              "<Figure size 432x288 with 1 Axes>"
            ]
          },
          "metadata": {
            "needs_background": "light"
          }
        }
      ]
    },
    {
      "cell_type": "code",
      "metadata": {
        "id": "44yR6FdPI21j",
        "colab": {
          "base_uri": "https://localhost:8080/"
        },
        "outputId": "49c53055-8ae4-450f-e99b-9de73646653c"
      },
      "source": [
        "from datetime import datetime \n",
        "Wyoming = cases[cases['state']==\"New York\"]\n",
        "#print(Wyoming)\n",
        "dt = Wyoming['date']\n",
        "st_date= '2020-03-11'\n",
        "dt = np.array(dt)\n",
        "x=[]\n",
        "for i in range(0,len(dt)):\n",
        "  d = datetime.strptime(dt[i],'%Y-%m-%d').date()\n",
        "  d= d.toordinal()\n",
        "  x.append(d)\n",
        "y = Wyoming['cases']\n",
        "y = np.array(y)\n",
        "x=np.array(x)\n",
        "print(x.shape)\n",
        "print(y.shape)"
      ],
      "execution_count": null,
      "outputs": [
        {
          "output_type": "stream",
          "name": "stdout",
          "text": [
            "(553,)\n",
            "(553,)\n"
          ]
        }
      ]
    },
    {
      "cell_type": "code",
      "metadata": {
        "id": "xCmA9HoqXQ1O"
      },
      "source": [
        "from sklearn.model_selection import train_test_split\n",
        "train_x,test_x,train_y,test_y = train_test_split(x,y,test_size=0.2)"
      ],
      "execution_count": null,
      "outputs": []
    },
    {
      "cell_type": "code",
      "metadata": {
        "id": "E8Rq6XMBGlhs",
        "colab": {
          "base_uri": "https://localhost:8080/"
        },
        "outputId": "e02885ee-19e3-4df9-d76a-7460991bd684"
      },
      "source": [
        "train_x= np.reshape(train_x,(-1,1))\n",
        "train_y = np.reshape(train_y,(-1,1))\n",
        "test_x = np.reshape(test_x,(-1,1))\n",
        "test_y = np.reshape(train_x,(-1,1))\n",
        "print(train_y.shape)\n",
        "print(train_x.shape)"
      ],
      "execution_count": null,
      "outputs": [
        {
          "output_type": "stream",
          "name": "stdout",
          "text": [
            "(442, 1)\n",
            "(442, 1)\n"
          ]
        }
      ]
    },
    {
      "cell_type": "code",
      "metadata": {
        "colab": {
          "base_uri": "https://localhost:8080/"
        },
        "id": "j6cwtZVNW3MN",
        "outputId": "bdd13dd9-5041-49cb-b041-feb19f6c7e86"
      },
      "source": [
        "from sklearn.linear_model import LinearRegression\n",
        "regressor =LinearRegression()\n",
        "regressor.fit(train_x,train_y)\n",
        "print(regressor.coef_)\n",
        "print(regressor.intercept_)\n",
        "pred_y = regressor.predict(test_x)"
      ],
      "execution_count": null,
      "outputs": [
        {
          "output_type": "stream",
          "name": "stdout",
          "text": [
            "[[4697.46980925]]\n",
            "[-3.46453827e+09]\n"
          ]
        }
      ]
    },
    {
      "cell_type": "code",
      "metadata": {
        "colab": {
          "base_uri": "https://localhost:8080/"
        },
        "id": "qFgSZl1GW3QV",
        "outputId": "d9ca505c-b354-408f-ca84-7099e91c1445"
      },
      "source": [
        "for i in range(0,len(pred_y)):\n",
        "  print(\"Predicted: \",pred_y[i],\" and Actual: \",test_y[i])"
      ],
      "execution_count": null,
      "outputs": [
        {
          "output_type": "stream",
          "name": "stdout",
          "text": [
            "Predicted:  [-116704.98317289]  and Actual:  [737791]\n",
            "Predicted:  [1024780.18047428]  and Actual:  [738030]\n",
            "Predicted:  [1010687.77104616]  and Actual:  [737772]\n",
            "Predicted:  [686562.35420847]  and Actual:  [737816]\n",
            "Predicted:  [1950181.73289585]  and Actual:  [737511]\n",
            "Predicted:  [1048267.52952051]  and Actual:  [737872]\n",
            "Predicted:  [731.76205826]  and Actual:  [737517]\n",
            "Predicted:  [2175660.28373957]  and Actual:  [737635]\n",
            "Predicted:  [1222073.91246223]  and Actual:  [737488]\n",
            "Predicted:  [747629.46172857]  and Actual:  [738010]\n",
            "Predicted:  [-205956.90954828]  and Actual:  [737663]\n",
            "Predicted:  [357739.46756124]  and Actual:  [737943]\n",
            "Predicted:  [2152172.93469334]  and Actual:  [737657]\n",
            "Predicted:  [-140192.33221912]  and Actual:  [737834]\n",
            "Predicted:  [1254956.20112705]  and Actual:  [738020]\n",
            "Predicted:  [367134.40717983]  and Actual:  [737674]\n",
            "Predicted:  [681864.88439894]  and Actual:  [737886]\n",
            "Predicted:  [-182469.56050205]  and Actual:  [738024]\n",
            "Predicted:  [2077013.41774511]  and Actual:  [737687]\n",
            "Predicted:  [2030038.71965265]  and Actual:  [738025]\n",
            "Predicted:  [498663.56183863]  and Actual:  [737531]\n",
            "Predicted:  [1377090.41616774]  and Actual:  [737987]\n",
            "Predicted:  [442293.92412758]  and Actual:  [737676]\n",
            "Predicted:  [446991.39393663]  and Actual:  [737736]\n",
            "Predicted:  [216815.37328386]  and Actual:  [737936]\n",
            "Predicted:  [2297794.49877977]  and Actual:  [737794]\n",
            "Predicted:  [338949.58832407]  and Actual:  [737933]\n",
            "Predicted:  [573823.07878637]  and Actual:  [737950]\n",
            "Predicted:  [33614.05072308]  and Actual:  [737891]\n",
            "Predicted:  [1283141.01998281]  and Actual:  [737980]\n",
            "Predicted:  [1804560.16880894]  and Actual:  [737554]\n",
            "Predicted:  [2128685.58564711]  and Actual:  [738031]\n",
            "Predicted:  [1611963.90663004]  and Actual:  [737588]\n",
            "Predicted:  [1903207.03480339]  and Actual:  [737918]\n",
            "Predicted:  [803999.09943962]  and Actual:  [737770]\n",
            "Predicted:  [2072315.94793606]  and Actual:  [737592]\n",
            "Predicted:  [982502.95219088]  and Actual:  [737713]\n",
            "Predicted:  [1447552.46330643]  and Actual:  [737778]\n",
            "Predicted:  [2039433.65927124]  and Actual:  [737658]\n",
            "Predicted:  [165143.20538187]  and Actual:  [737884]\n",
            "Predicted:  [437596.45431852]  and Actual:  [737813]\n",
            "Predicted:  [1381787.88597679]  and Actual:  [737926]\n",
            "Predicted:  [390621.75622606]  and Actual:  [737689]\n",
            "Predicted:  [832183.91829491]  and Actual:  [737837]\n",
            "Predicted:  [1705913.30281496]  and Actual:  [737888]\n",
            "Predicted:  [1372392.9463582]  and Actual:  [737788]\n",
            "Predicted:  [1334813.18788433]  and Actual:  [737603]\n",
            "Predicted:  [850973.79753208]  and Actual:  [737717]\n",
            "Predicted:  [1973669.08194208]  and Actual:  [737795]\n",
            "Predicted:  [2368256.54591846]  and Actual:  [737962]\n",
            "Predicted:  [418806.57508135]  and Actual:  [737900]\n",
            "Predicted:  [432898.98450899]  and Actual:  [737514]\n",
            "Predicted:  [-69730.28508043]  and Actual:  [737680]\n",
            "Predicted:  [451688.86374617]  and Actual:  [737527]\n",
            "Predicted:  [841578.85791349]  and Actual:  [737983]\n",
            "Predicted:  [1250258.731318]  and Actual:  [737944]\n",
            "Predicted:  [1546199.3293004]  and Actual:  [737667]\n",
            "Predicted:  [315462.23927784]  and Actual:  [737763]\n",
            "Predicted:  [930830.78428936]  and Actual:  [737624]\n",
            "Predicted:  [1471039.81235266]  and Actual:  [737551]\n",
            "Predicted:  [94681.15824318]  and Actual:  [737880]\n",
            "Predicted:  [2189752.69316721]  and Actual:  [738033]\n",
            "Predicted:  [1626056.31605768]  and Actual:  [737913]\n",
            "Predicted:  [771116.8107748]  and Actual:  [737807]\n",
            "Predicted:  [1245561.26150846]  and Actual:  [737724]\n",
            "Predicted:  [827486.44848585]  and Actual:  [737602]\n",
            "Predicted:  [940225.72390747]  and Actual:  [737493]\n",
            "Predicted:  [1968971.61213255]  and Actual:  [737842]\n",
            "Predicted:  [-41545.46622467]  and Actual:  [737500]\n",
            "Predicted:  [-220049.31897593]  and Actual:  [737942]\n",
            "Predicted:  [2091105.82717323]  and Actual:  [737750]\n",
            "Predicted:  [1720005.7122426]  and Actual:  [738023]\n",
            "Predicted:  [71193.80919695]  and Actual:  [737585]\n",
            "Predicted:  [2283702.08935213]  and Actual:  [737859]\n",
            "Predicted:  [2316584.37801695]  and Actual:  [737684]\n",
            "Predicted:  [959015.60314465]  and Actual:  [737643]\n",
            "Predicted:  [1701215.83300543]  and Actual:  [737771]\n",
            "Predicted:  [1057662.46913862]  and Actual:  [737505]\n",
            "Predicted:  [136958.38652658]  and Actual:  [737955]\n",
            "Predicted:  [1696518.36319637]  and Actual:  [737641]\n",
            "Predicted:  [-112007.51336336]  and Actual:  [737696]\n",
            "Predicted:  [132260.91671753]  and Actual:  [737642]\n",
            "Predicted:  [1607266.43682051]  and Actual:  [737718]\n",
            "Predicted:  [1301930.89921951]  and Actual:  [737552]\n",
            "Predicted:  [287277.42042255]  and Actual:  [737564]\n",
            "Predicted:  [836881.38810444]  and Actual:  [737597]\n",
            "Predicted:  [-201259.43973923]  and Actual:  [737563]\n",
            "Predicted:  [461083.80336475]  and Actual:  [737808]\n",
            "Predicted:  [47706.46015072]  and Actual:  [737516]\n",
            "Predicted:  [1541501.85949135]  and Actual:  [737752]\n",
            "Predicted:  [1104637.16723108]  and Actual:  [737977]\n",
            "Predicted:  [1442854.99349689]  and Actual:  [737823]\n",
            "Predicted:  [489268.62222004]  and Actual:  [737537]\n",
            "Predicted:  [1137519.4558959]  and Actual:  [737783]\n",
            "Predicted:  [935528.25409842]  and Actual:  [737864]\n",
            "Predicted:  [2217937.5120225]  and Actual:  [737735]\n",
            "Predicted:  [353041.99775171]  and Actual:  [737536]\n",
            "Predicted:  [395319.22603512]  and Actual:  [737739]\n",
            "Predicted:  [1823350.04804611]  and Actual:  [737716]\n",
            "Predicted:  [540940.79012156]  and Actual:  [737720]\n",
            "Predicted:  [2006551.37060642]  and Actual:  [737550]\n",
            "Predicted:  [1433460.05387831]  and Actual:  [737874]\n",
            "Predicted:  [1978366.55175114]  and Actual:  [737951]\n",
            "Predicted:  [2358861.60629988]  and Actual:  [737848]\n",
            "Predicted:  [343647.0581336]  and Actual:  [737759]\n",
            "Predicted:  [1564989.20853758]  and Actual:  [737802]\n",
            "Predicted:  [1311325.8388381]  and Actual:  [737992]\n",
            "Predicted:  [52403.92996025]  and Actual:  [737971]\n",
            "Predicted:  [644285.12592506]  and Actual:  [737998]\n",
            "Predicted:  [818091.50886726]  and Actual:  [737649]\n",
            "Predicted:  [1729400.65186119]  and Actual:  [737695]\n"
          ]
        }
      ]
    },
    {
      "cell_type": "code",
      "metadata": {
        "colab": {
          "base_uri": "https://localhost:8080/",
          "height": 290
        },
        "id": "L3YQudxgW3Tn",
        "outputId": "21f7f955-89e8-4826-86f8-46834563c161"
      },
      "source": [
        "import datetime\n",
        "\n",
        "# w for i in x:\n",
        "#  d= datetime.date.fromordinal(x[i])\n",
        "\n",
        "#dw\n",
        "plt.scatter(x,y,color='blue')\n",
        "plt.xlabel('date')\n",
        "plt.ylabel('cases')\n",
        "plt.plot(test_x,regressor.predict(test_x),color='red')\n",
        "plt.show()"
      ],
      "execution_count": null,
      "outputs": [
        {
          "output_type": "display_data",
          "data": {
            "image/png": "[encoded data removed]",
            "text/plain": [
              "<Figure size 432x288 with 1 Axes>"
            ]
          },
          "metadata": {
            "needs_background": "light"
          }
        }
      ]
    },
    {
      "cell_type": "code",
      "metadata": {
        "colab": {
          "base_uri": "https://localhost:8080/"
        },
        "id": "-DFNc8yMZTBB",
        "outputId": "cf86ba1d-a3b4-40d2-ca65-e0aa6522c55f"
      },
      "source": [
        "from datetime import datetime \n",
        "Wyoming = cases[cases['state']==\"Texas\"]\n",
        "#print(Wyoming)\n",
        "dt = Wyoming['date']\n",
        "st_date= '2020-03-11'\n",
        "dt = np.array(dt)\n",
        "x=[]\n",
        "for i in range(0,len(dt)):\n",
        "  d = datetime.strptime(dt[i],'%Y-%m-%d').date()\n",
        "  d= d.toordinal()\n",
        "  x.append(d)\n",
        "y = Wyoming['cases']\n",
        "y = np.array(y)\n",
        "x=np.array(x)\n",
        "print(x.shape)\n",
        "print(y.shape)\n",
        "from sklearn.model_selection import train_test_split\n",
        "train_x,test_x,train_y,test_y = train_test_split(x,y,test_size=0.2)\n",
        "train_x= np.reshape(train_x,(-1,1))\n",
        "train_y = np.reshape(train_y,(-1,1))\n",
        "test_x = np.reshape(test_x,(-1,1))\n",
        "test_y = np.reshape(train_x,(-1,1))\n",
        "print(train_y.shape)\n",
        "print(train_x.shape)\n",
        "from sklearn.linear_model import LinearRegression\n",
        "regressor =LinearRegression()\n",
        "regressor.fit(train_x,train_y)\n",
        "print(regressor.coef_)\n",
        "print(regressor.intercept_)\n",
        "pred_y = regressor.predict(test_x)"
      ],
      "execution_count": null,
      "outputs": [
        {
          "output_type": "stream",
          "name": "stdout",
          "text": [
            "(571,)\n",
            "(571,)\n",
            "(456, 1)\n",
            "(456, 1)\n",
            "[[7340.21271326]]\n",
            "[-5.41374381e+09]\n"
          ]
        }
      ]
    },
    {
      "cell_type": "code",
      "metadata": {
        "colab": {
          "base_uri": "https://localhost:8080/",
          "height": 290
        },
        "id": "M-jk_zdMZS-M",
        "outputId": "67bee6dd-7ded-440b-900e-0e52c465549d"
      },
      "source": [
        "import datetime\n",
        "\n",
        "# w for i in x:\n",
        "#  d= datetime.date.fromordinal(x[i])\n",
        "\n",
        "#dw\n",
        "plt.scatter(x,y,color='blue')\n",
        "plt.xlabel('date')\n",
        "plt.ylabel('cases')\n",
        "plt.plot(test_x,regressor.predict(test_x),color='red')\n",
        "plt.show()"
      ],
      "execution_count": null,
      "outputs": [
        {
          "output_type": "display_data",
          "data": {
            "image/png": "[encoded data removed]",
            "text/plain": [
              "<Figure size 432x288 with 1 Axes>"
            ]
          },
          "metadata": {
            "needs_background": "light"
          }
        }
      ]
    },
    {
      "cell_type": "code",
      "metadata": {
        "colab": {
          "base_uri": "https://localhost:8080/"
        },
        "id": "hiBKVi5-ZS7E",
        "outputId": "eaeecc12-4ba2-4eb6-96fb-8719b4c13fd2"
      },
      "source": [
        "from datetime import datetime \n",
        "Wyoming = cases[cases['state']==\"Alaska\"]\n",
        "#print(Wyoming)\n",
        "dt = Wyoming['date']\n",
        "st_date= '2020-03-11'\n",
        "dt = np.array(dt)\n",
        "x=[]\n",
        "for i in range(0,len(dt)):\n",
        "  d = datetime.strptime(dt[i],'%Y-%m-%d').date()\n",
        "  d= d.toordinal()\n",
        "  x.append(d)\n",
        "y = Wyoming['cases']\n",
        "y = np.array(y)\n",
        "x=np.array(x)\n",
        "print(x.shape)\n",
        "print(y.shape)\n",
        "from sklearn.model_selection import train_test_split\n",
        "train_x,test_x,train_y,test_y = train_test_split(x,y,test_size=0.2)\n",
        "train_x= np.reshape(train_x,(-1,1))\n",
        "train_y = np.reshape(train_y,(-1,1))\n",
        "test_x = np.reshape(test_x,(-1,1))\n",
        "test_y = np.reshape(train_x,(-1,1))\n",
        "print(train_y.shape)\n",
        "print(train_x.shape)\n",
        "from sklearn.linear_model import LinearRegression\n",
        "regressor =LinearRegression()\n",
        "regressor.fit(train_x,train_y)\n",
        "print(regressor.coef_)\n",
        "print(regressor.intercept_)\n",
        "pred_y = regressor.predict(test_x)"
      ],
      "execution_count": null,
      "outputs": [
        {
          "output_type": "stream",
          "name": "stdout",
          "text": [
            "(542,)\n",
            "(542,)\n",
            "(433, 1)\n",
            "(433, 1)\n",
            "[[188.20776858]]\n",
            "[-1.38818128e+08]\n"
          ]
        }
      ]
    },
    {
      "cell_type": "code",
      "metadata": {
        "colab": {
          "base_uri": "https://localhost:8080/",
          "height": 279
        },
        "id": "AVC98a7EZS3X",
        "outputId": "55c312b3-c0c6-4e8e-b585-74b698c5e47d"
      },
      "source": [
        "import datetime\n",
        "\n",
        "# w for i in x:\n",
        "#  d= datetime.date.fromordinal(x[i])\n",
        "\n",
        "#dw\n",
        "plt.scatter(x,y,color='blue')\n",
        "plt.xlabel('date')\n",
        "plt.ylabel('cases')\n",
        "plt.plot(test_x,regressor.predict(test_x),color='red')\n",
        "plt.show()"
      ],
      "execution_count": null,
      "outputs": [
        {
          "output_type": "display_data",
          "data": {
            "image/png": "[encoded data removed]",
            "text/plain": [
              "<Figure size 432x288 with 1 Axes>"
            ]
          },
          "metadata": {
            "needs_background": "light"
          }
        }
      ]
    },
    {
      "cell_type": "code",
      "metadata": {
        "id": "y7nudeVhZSyq"
      },
      "source": [
        ""
      ],
      "execution_count": null,
      "outputs": []
    },
    {
      "cell_type": "code",
      "metadata": {
        "id": "4wWwoKl1ZSvi"
      },
      "source": [
        ""
      ],
      "execution_count": null,
      "outputs": []
    },
    {
      "cell_type": "code",
      "metadata": {
        "id": "x5g7LsNhZSsP"
      },
      "source": [
        ""
      ],
      "execution_count": null,
      "outputs": []
    }
  ]
}